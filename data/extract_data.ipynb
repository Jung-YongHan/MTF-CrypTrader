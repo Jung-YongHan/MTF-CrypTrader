{
 "cells": [
  {
   "cell_type": "code",
   "execution_count": null,
   "id": "d6c6d9db",
   "metadata": {},
   "outputs": [],
   "source": [
    "import pandas as pd\n",
    "\n",
    "def save_data(coin, candle, trend, start_date, end_date, return_data=False):\n",
    "    df = pd.read_csv(f'{coin}_{candle}.csv', index_col=0, parse_dates=[0])\n",
    "    df.drop(columns=['market'], inplace=True)\n",
    "    df.columns = ['open', 'high', 'low', 'close', 'volume']\n",
    "    \n",
    "    df = df.loc[start_date:end_date]\n",
    "    df.reset_index(inplace=True)\n",
    "    df.rename(columns={'index': 'datetime'}, inplace=True)\n",
    "    \n",
    "    df.to_csv(f'{coin}_{candle}_{trend}.csv', index=False)\n",
    "    if return_data:\n",
    "        return df\n"
   ]
  },
  {
   "cell_type": "code",
   "execution_count": 4,
   "id": "91726260",
   "metadata": {},
   "outputs": [],
   "source": [
    "save_data('btc', 'minute15', 'bull', '2024-11-05 09:00:00', '2025-01-20 09:00:00')\n",
    "save_data('btc', 'minute15', 'bear', '2025-01-21 09:00:00', '2025-04-08 09:00:00')\n",
    "save_data('btc', 'minute15', 'total', '2024-11-05 09:00:00', '2025-04-08 09:00:00')"
   ]
  },
  {
   "cell_type": "code",
   "execution_count": null,
   "id": "a27e04ee",
   "metadata": {},
   "outputs": [],
   "source": [
    "save_data('btc', 'day', 'bulls', '2024-01-01 09:00:00', '2025-05-09 09:00:00')\n"
   ]
  },
  {
   "cell_type": "code",
   "execution_count": null,
   "id": "052e5b5a",
   "metadata": {},
   "outputs": [],
   "source": [
    "save_data('btc', 'minute15', 'bulls', '2024-01-01 09:00:00', '2025-05-08 00:00:00')"
   ]
  },
  {
   "cell_type": "code",
   "execution_count": 3,
   "id": "9ab6d650",
   "metadata": {},
   "outputs": [],
   "source": [
    "save_data('btc', 'hour1', 'bulls', '2023-01-01 09:00:00', '2025-05-01 09:00:00')"
   ]
  },
  {
   "cell_type": "code",
   "execution_count": null,
   "id": "c9c3f102",
   "metadata": {},
   "outputs": [],
   "source": []
  }
 ],
 "metadata": {
  "kernelspec": {
   "display_name": "Python 3",
   "language": "python",
   "name": "python3"
  },
  "language_info": {
   "codemirror_mode": {
    "name": "ipython",
    "version": 3
   },
   "file_extension": ".py",
   "mimetype": "text/x-python",
   "name": "python",
   "nbconvert_exporter": "python",
   "pygments_lexer": "ipython3",
   "version": "3.12.9"
  }
 },
 "nbformat": 4,
 "nbformat_minor": 5
}
